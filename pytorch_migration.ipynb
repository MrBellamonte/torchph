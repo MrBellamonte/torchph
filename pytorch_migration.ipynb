{
 "cells": [
  {
   "cell_type": "code",
   "execution_count": 1,
   "metadata": {},
   "outputs": [],
   "source": [
    "%load_ext autoreload\n",
    "%autoreload 2"
   ]
  },
  {
   "cell_type": "code",
   "execution_count": 2,
   "metadata": {},
   "outputs": [],
   "source": [
    "import torch \n",
    "import chofer_torchex.nn"
   ]
  },
  {
   "cell_type": "code",
   "execution_count": 17,
   "metadata": {},
   "outputs": [],
   "source": [
    "ms = torch.tensor([[0, 2.0], [0, 2.0]])\n",
    "batch = [ms, ms.repeat(2, 1), torch.tensor([], dtype=torch.float32)]\n",
    "centers_init = torch.tensor([[0, 2.0], [1,1], [5, 10]])"
   ]
  },
  {
   "cell_type": "code",
   "execution_count": 30,
   "metadata": {},
   "outputs": [],
   "source": [
    "sl_rat_hat = chofer_torchex.nn.SLayerRationalHat(3, \n",
    "                                                 centers_init=centers_init)\n",
    "\n",
    "sl_rat = chofer_torchex.nn.SLayerRational(3, \n",
    "                                          centers_init=centers_init)\n",
    "\n",
    "sl_exp = chofer_torchex.nn.SLayerExponential(3, \n",
    "                                          centers_init=centers_init, \n",
    "                                          sharpness_init=torch.ones(3, 2)*0.1)\n",
    "\n",
    "layers = [sl_exp, sl_rat, sl_rat_hat]"
   ]
  },
  {
   "cell_type": "code",
   "execution_count": 31,
   "metadata": {},
   "outputs": [],
   "source": [
    "batch = [x.to('cuda') for x in batch]\n",
    "layers = [x.to('cuda') for x in layers]"
   ]
  },
  {
   "cell_type": "code",
   "execution_count": 32,
   "metadata": {},
   "outputs": [
    {
     "data": {
      "text/plain": [
       "SLayerExponential (... -> 3 )"
      ]
     },
     "execution_count": 32,
     "metadata": {},
     "output_type": "execute_result"
    }
   ],
   "source": [
    "layers[0].to('cuda')"
   ]
  },
  {
   "cell_type": "code",
   "execution_count": 33,
   "metadata": {},
   "outputs": [
    {
     "data": {
      "text/plain": [
       "[SLayerExponential (... -> 3 ),\n",
       " SLayerRational (... -> 3 ),\n",
       " SLayerRationalHat (... -> 3 )]"
      ]
     },
     "execution_count": 33,
     "metadata": {},
     "output_type": "execute_result"
    }
   ],
   "source": [
    "layers"
   ]
  },
  {
   "cell_type": "code",
   "execution_count": 34,
   "metadata": {},
   "outputs": [
    {
     "name": "stdout",
     "output_type": "stream",
     "text": [
      "tensor([[2.0000, 1.9604, 0.8213],\n",
      "        [4.0000, 3.9208, 1.6426],\n",
      "        [0.0000, 0.0000, 0.0000]],\n",
      "       device='cuda:0', grad_fn=<SqueezeBackward0>)\n",
      "tensor([[2.0000, 0.6667, 0.1429],\n",
      "        [4.0000, 1.3333, 0.2857],\n",
      "        [0.0000, 0.0000, 0.0000]], device='cuda:0', grad_fn=<SumBackward1>)\n",
      "tensor([[ 1.0000, -0.3333, -0.0110],\n",
      "        [ 2.0000, -0.6667, -0.0220],\n",
      "        [ 0.0000,  0.0000,  0.0000]], device='cuda:0', grad_fn=<SumBackward1>)\n"
     ]
    }
   ],
   "source": [
    "for l in layers:\n",
    "    print(l(batch))"
   ]
  },
  {
   "cell_type": "code",
   "execution_count": 35,
   "metadata": {},
   "outputs": [],
   "source": [
    "sl_rat(batch).sum().backward()"
   ]
  },
  {
   "cell_type": "code",
   "execution_count": null,
   "metadata": {},
   "outputs": [],
   "source": [
    "torch.autograd.Variable(torch.ones(2,2))"
   ]
  },
  {
   "cell_type": "code",
   "execution_count": 25,
   "metadata": {},
   "outputs": [],
   "source": [
    "x = torch.rand(5)"
   ]
  },
  {
   "cell_type": "code",
   "execution_count": 28,
   "metadata": {},
   "outputs": [
    {
     "data": {
      "text/plain": [
       "device(type='cpu')"
      ]
     },
     "execution_count": 28,
     "metadata": {},
     "output_type": "execute_result"
    }
   ],
   "source": [
    "x.device"
   ]
  },
  {
   "cell_type": "code",
   "execution_count": 14,
   "metadata": {},
   "outputs": [
    {
     "data": {
      "text/plain": [
       "device(type='cpu')"
      ]
     },
     "execution_count": 14,
     "metadata": {},
     "output_type": "execute_result"
    }
   ],
   "source": [
    "torch.LongTensor(range(5), device='cuda').device"
   ]
  },
  {
   "cell_type": "code",
   "execution_count": null,
   "metadata": {},
   "outputs": [],
   "source": []
  }
 ],
 "metadata": {
  "kernelspec": {
   "display_name": "Python 3",
   "language": "python",
   "name": "python3"
  },
  "language_info": {
   "codemirror_mode": {
    "name": "ipython",
    "version": 3
   },
   "file_extension": ".py",
   "mimetype": "text/x-python",
   "name": "python",
   "nbconvert_exporter": "python",
   "pygments_lexer": "ipython3",
   "version": "3.6.6"
  }
 },
 "nbformat": 4,
 "nbformat_minor": 2
}
