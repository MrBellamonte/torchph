{
 "cells": [
  {
   "cell_type": "markdown",
   "metadata": {},
   "source": [
    "# Comparison to SOTA\n",
    "\n",
    "This notebook contains a comparison of the Vietoris-Rips (VR) persistent homology (PH) computation (on the GPU) implemented in `chofer_torchex` to the implementations available via `dionysus` (v2) and `ripser` (which is SOTA in terms of runtime).\n",
    "\n",
    "This runtime study is a small-scale version of the runtime study in \n",
    "\n",
    "**Connectivity-Optimized Representation Learning via Persistent Homology**    \n",
    "C. Hofer, R. Kwitt, M. Dixit and M. Niethammer    \n",
    "ICML '19    \n",
    "[Online](http://proceedings.mlr.press/v97/hofer19a.html)"
   ]
  },
  {
   "cell_type": "code",
   "execution_count": 13,
   "metadata": {},
   "outputs": [],
   "source": [
    "import sys"
   ]
  },
  {
   "cell_type": "code",
   "execution_count": 5,
   "metadata": {},
   "outputs": [
    {
     "name": "stdout",
     "output_type": "stream",
     "text": [
      "Requirement already satisfied: ripser in /scratch4/chofer/opt/anaconda/envs/pyt_1.0/lib/python3.7/site-packages (0.3.2)\n",
      "Requirement already satisfied: numpy in /scratch4/chofer/opt/anaconda/envs/pyt_1.0/lib/python3.7/site-packages (from ripser) (1.15.4)\n",
      "Requirement already satisfied: persim in /scratch4/chofer/opt/anaconda/envs/pyt_1.0/lib/python3.7/site-packages (from ripser) (0.0.9)\n",
      "Requirement already satisfied: scipy in /scratch4/chofer/opt/anaconda/envs/pyt_1.0/lib/python3.7/site-packages (from ripser) (1.1.0)\n",
      "Requirement already satisfied: Cython in /scratch4/chofer/opt/anaconda/envs/pyt_1.0/lib/python3.7/site-packages (from ripser) (0.29.2)\n",
      "Requirement already satisfied: scikit-learn in /scratch4/chofer/opt/anaconda/envs/pyt_1.0/lib/python3.7/site-packages (from ripser) (0.20.1)\n",
      "Requirement already satisfied: matplotlib in /scratch4/chofer/opt/anaconda/envs/pyt_1.0/lib/python3.7/site-packages (from persim->ripser) (3.0.2)\n",
      "Requirement already satisfied: hopcroftkarp in /scratch4/chofer/opt/anaconda/envs/pyt_1.0/lib/python3.7/site-packages (from persim->ripser) (1.2.4)\n",
      "Requirement already satisfied: cycler>=0.10 in /scratch4/chofer/opt/anaconda/envs/pyt_1.0/lib/python3.7/site-packages (from matplotlib->persim->ripser) (0.10.0)\n",
      "Requirement already satisfied: kiwisolver>=1.0.1 in /scratch4/chofer/opt/anaconda/envs/pyt_1.0/lib/python3.7/site-packages (from matplotlib->persim->ripser) (1.0.1)\n",
      "Requirement already satisfied: pyparsing!=2.0.4,!=2.1.2,!=2.1.6,>=2.0.1 in /scratch4/chofer/opt/anaconda/envs/pyt_1.0/lib/python3.7/site-packages (from matplotlib->persim->ripser) (2.3.0)\n",
      "Requirement already satisfied: python-dateutil>=2.1 in /scratch4/chofer/opt/anaconda/envs/pyt_1.0/lib/python3.7/site-packages (from matplotlib->persim->ripser) (2.7.5)\n",
      "Requirement already satisfied: six in /scratch4/chofer/opt/anaconda/envs/pyt_1.0/lib/python3.7/site-packages (from cycler>=0.10->matplotlib->persim->ripser) (1.12.0)\n",
      "Requirement already satisfied: setuptools in /scratch4/chofer/opt/anaconda/envs/pyt_1.0/lib/python3.7/site-packages (from kiwisolver>=1.0.1->matplotlib->persim->ripser) (40.6.3)\n"
     ]
    }
   ],
   "source": [
    "# UNCOMMENT THE FOLLOWING LINE IN CASE YOU WANT TO \n",
    "# LOCALLY INSTALL RIPSER\n",
    "!{sys.executable} -m pip install ripser"
   ]
  },
  {
   "cell_type": "code",
   "execution_count": 6,
   "metadata": {},
   "outputs": [
    {
     "name": "stdout",
     "output_type": "stream",
     "text": [
      "Requirement already satisfied: dionysus in /scratch4/chofer/opt/anaconda/envs/pyt_1.0/lib/python3.7/site-packages (2.0.6)\r\n"
     ]
    }
   ],
   "source": [
    "# UNCOMMENT THE FOLLOWING LINE IN CASE YOU WANT TO \n",
    "# LOCALLY INSTALL DIONYSUS\n",
    "!{sys.executable} -m pip install dionysus"
   ]
  },
  {
   "cell_type": "code",
   "execution_count": 15,
   "metadata": {},
   "outputs": [],
   "source": [
    "%matplotlib inline\n",
    "import matplotlib.pyplot as plt\n",
    "\n",
    "import numpy as np\n",
    "from collections import defaultdict\n",
    "\n",
    "# UNCOMMENT TO IMPORT RIPSER and DIONYSUS\n",
    "from ripser import ripser\n",
    "import dionysus as d\n",
    "\n",
    "import torch\n",
    "import time\n",
    "\n",
    "from scipy.spatial.distance import pdist\n",
    "\n",
    "from sklearn import datasets\n",
    "\n",
    "from chofer_torchex.pershom import vr_persistence_l1, vr_persistence\n",
    "\n",
    "device = 'cuda'"
   ]
  },
  {
   "cell_type": "code",
   "execution_count": 22,
   "metadata": {},
   "outputs": [
    {
     "name": "stdout",
     "output_type": "stream",
     "text": [
      "Evaluating N=50\n",
      "Evaluating N=100\n",
      "Evaluating N=150\n",
      "Evaluating N=200\n",
      "Evaluating N=250\n",
      "Evaluating N=300\n",
      "Evaluating N=350\n",
      "Evaluating N=400\n",
      "Evaluating N=450\n"
     ]
    }
   ],
   "source": [
    "def gen_random_10D_data(n):\n",
    "    return np.random.randn(n,10)  \n",
    "\n",
    "def gen_circlces(n):\n",
    "    return datasets.make_circles(\n",
    "        n_samples=n, \n",
    "        noise=0.05, \n",
    "        factor=0.5)[0]\n",
    "\n",
    "N = np.arange(50,500,50)\n",
    "\n",
    "times = defaultdict(list)\n",
    "\n",
    "f = gen_random_10D_data\n",
    "\n",
    "for n in N:\n",
    "    trials = defaultdict(list)\n",
    "    print('Evaluating N={}'.format(n))\n",
    "    \n",
    "    for i in np.arange(50):\n",
    "        \n",
    "        #Generate data\n",
    "        x = f(n)\n",
    "        D_l1 = pdist(x, metric='cityblock')\n",
    "        thr_l1 = np.max(D_l1.ravel())\n",
    "\n",
    "        X = torch.Tensor(x).to(device)\n",
    "        \n",
    "        # Timing chofer_torchex\n",
    "        t0 = time.time()\n",
    "        l, _ = vr_persistence_l1(X.contiguous(),0, 0);\n",
    "        t1 = time.time()\n",
    "        trials['chofer_torchex'].append(t1-t0)\n",
    "        \n",
    "        if 'ripser' in sys.modules:        \n",
    "            t0 = time.time()\n",
    "            ripser(x, maxdim=0, thresh=thr_l1, metric='manhattan')\n",
    "            t1 = time.time()\n",
    "            trials['ripser'].append(t1-t0)\n",
    "        \n",
    "        if 'dionysus' in sys.modules: \n",
    "            t0 = time.time()\n",
    "            dd = pdist(x, metric='cityblock')\n",
    "            filt = d.fill_rips(dd, 1, thr_l1)\n",
    "            m = d.cohomology_persistence(filt)\n",
    "            t1 = time.time()\n",
    "            trials['dionysus'].append(t1-t0)\n",
    "        \n",
    "    times[n] = trials"
   ]
  },
  {
   "cell_type": "code",
   "execution_count": 23,
   "metadata": {},
   "outputs": [],
   "source": [
    "methods = []\n",
    "if 'ripser' in sys.modules:\n",
    "    methods.append('ripser')\n",
    "if 'dionysus' in sys.modules:\n",
    "    methods.append('dionysus')\n",
    "methods.append('chofer_torchex')\n",
    "\n",
    "T = np.zeros((len(N),3))\n",
    "S = np.zeros((len(N),3))\n",
    "for j,(k,v) in enumerate(times.items()):\n",
    "    for i, method in enumerate(methods):\n",
    "        T[j,i] = np.array(v[method]).mean()\n",
    "        S[j,i] = np.array(v[method]).std()"
   ]
  },
  {
   "cell_type": "code",
   "execution_count": 24,
   "metadata": {},
   "outputs": [
    {
     "data": {
      "image/png": "[encoded data removed]",
      "text/plain": [
       "<Figure size 432x288 with 1 Axes>"
      ]
     },
     "metadata": {
      "needs_background": "light"
     },
     "output_type": "display_data"
    }
   ],
   "source": [
    "colors = ['red', 'green', 'blue']\n",
    "\n",
    "plt.figure(figsize=(6,4))\n",
    "for i, method in enumerate(methods):\n",
    "    plt.plot(N, T[:,i], label=method.title(), color=colors[i])\n",
    "    plt.fill_between(N, T[:,i]-3*S[:,i], T[:,i]+3*S[:,i], color=colors[i], alpha=0.1)\n",
    "    \n",
    "plt.legend()\n",
    "plt.grid()\n",
    "plt.xlabel('Sample size b')\n",
    "plt.ylabel(r'Avg. runtime [s] $\\pm$ 3$\\sigma$')\n",
    "plt.title(r'Data: Unit Gaussian in $\\mathbb{R}^{10}$', fontsize=10)\n",
    "plt.savefig('/tmp/normal10d_runtime.pdf', bbox_inches='tight')"
   ]
  },
  {
   "cell_type": "markdown",
   "metadata": {},
   "source": [
    "Run a simple sanity check that all VR PH computations return the same result."
   ]
  },
  {
   "cell_type": "code",
   "execution_count": 25,
   "metadata": {},
   "outputs": [],
   "source": [
    "# Sample data\n",
    "x = f(200)\n",
    "\n",
    "# Compute l1 distance matrix and get max. pairwise distance = threshold\n",
    "D_l1 = pdist(x, metric='cityblock')\n",
    "thr_l1 = np.max(D_l1.ravel())\n",
    "\n",
    "# Run Ripser\n",
    "dgm_ripser = ripser(x, maxdim=0, thresh=thr_l1, metric='manhattan')['dgms']\n",
    "\n",
    "# Run Ours\n",
    "X = torch.Tensor(x).to(device)\n",
    "l, _ = vr_persistence_l1(X.contiguous(),0, 0);\n",
    "\n",
    "# Run Dionysus\n",
    "filt = d.fill_rips(D_l1, 1, thr_l1)\n",
    "m = d.cohomology_persistence(filt)\n",
    "dgms = d.init_diagrams(m, filt)"
   ]
  },
  {
   "cell_type": "code",
   "execution_count": 28,
   "metadata": {},
   "outputs": [],
   "source": [
    "assert(np.abs(dgm_ripser[0][:,1][:-1] - l[0].cpu().numpy()[:,1]).sum() < 1e-4)\n",
    "assert(np.abs(sorted([x.death for x in dgms[0]])[:-1] - l[0].cpu().numpy()[:,1]).sum() < 1e-4)\n",
    "assert(np.abs(dgm_ripser[0][:,1][:-1] - sorted([x.death for x in dgms[0]])[:-1]).sum() < 1e-4)"
   ]
  }
 ],
 "metadata": {
  "kernelspec": {
   "display_name": "Python 3",
   "language": "python",
   "name": "python3"
  },
  "language_info": {
   "codemirror_mode": {
    "name": "ipython",
    "version": 3
   },
   "file_extension": ".py",
   "mimetype": "text/x-python",
   "name": "python",
   "nbconvert_exporter": "python",
   "pygments_lexer": "ipython3",
   "version": "3.7.1"
  }
 },
 "nbformat": 4,
 "nbformat_minor": 2
}
